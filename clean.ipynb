{
 "cells": [
  {
   "cell_type": "code",
   "execution_count": 1,
   "metadata": {},
   "outputs": [],
   "source": [
    "import seaborn as sns\n",
    "import numpy as np\n",
    "import pandas as pd\n",
    "import matplotlib.pyplot as plt"
   ]
  },
  {
   "cell_type": "markdown",
   "metadata": {},
   "source": [
    "# 1. Read in datafile"
   ]
  },
  {
   "cell_type": "code",
   "execution_count": 2,
   "metadata": {},
   "outputs": [],
   "source": [
    "df = pd.read_csv(\"rawJailDataIntern.csv\")"
   ]
  },
  {
   "cell_type": "markdown",
   "metadata": {},
   "source": [
    "# 2. Explore Missingness"
   ]
  },
  {
   "cell_type": "markdown",
   "metadata": {},
   "source": [
    "### Missingness Table:"
   ]
  },
  {
   "cell_type": "code",
   "execution_count": 4,
   "metadata": {
    "scrolled": true
   },
   "outputs": [
    {
     "data": {
      "text/plain": [
       "fips                    0\n",
       "facility_name           0\n",
       "year                    0\n",
       "rated_capacity          7\n",
       "total_confined_pop      3\n",
       "adp                    15\n",
       "confined_women          0\n",
       "confined_men           12\n",
       "admissions_year       122\n",
       "admissions_week        92\n",
       "admissions_day        159\n",
       "discharge_year        122\n",
       "discharge_week         92\n",
       "discharge_day         160\n",
       "facility_year           0\n",
       "dtype: int64"
      ]
     },
     "execution_count": 4,
     "metadata": {},
     "output_type": "execute_result"
    }
   ],
   "source": [
    "# Total Missing Data:\n",
    "df.isna().sum()"
   ]
  },
  {
   "cell_type": "markdown",
   "metadata": {},
   "source": [
    "### 2 Takeaways from the missingness table:\n",
    "\n",
    "1. **Impute yearly counts based on daily and weekly counts**: It seems as if there may be some non-overlapping missingness from the days and weeks counts versus the year counts. Thus, I will try to use the daily and weekly counts to infer the yearly counts for discharge and admissions. \n",
    "\n",
    "2. **Impute confined_men using confined_women**: Because this dataset doesn't take into account individuals with non-binary gender identities (confined_other doesn't exist in this dataset), it looks like we can fill up some confined_men values by subtracting confined_women from total_confined_pop, given that confined_women isn't missing any values. "
   ]
  },
  {
   "cell_type": "markdown",
   "metadata": {},
   "source": [
    "# 3. Impute yearly counts based on daily and weekly counts"
   ]
  },
  {
   "cell_type": "markdown",
   "metadata": {},
   "source": [
    "After some exploratory data analysis, it's clear that many of the missing yearly values for admissions and discharge have either daily or weekly data next to them.\n",
    "\n",
    "As a **rough estimate**, we can impute the missing year columns by multiplying the weekly and daily data that exists for those years. If anomalous, we will remove them later in the code. "
   ]
  },
  {
   "cell_type": "code",
   "execution_count": 5,
   "metadata": {},
   "outputs": [],
   "source": [
    "# impute missing admissions_year data based on admissions_week and admissions_day\n",
    "df['admissions_year'] = np.where(df.admissions_year.isnull(), df.admissions_week * 52, df.admissions_year)\n",
    "df['admissions_year'] = np.where(df.admissions_year.isnull(), df.admissions_day * 365, df.admissions_year)\n",
    "\n",
    "# impute missing discharge_year data based on discharge_week and discharge_day\n",
    "df['discharge_year'] = np.where(df.discharge_year.isnull(), df.discharge_week * 52, df.discharge_year)\n",
    "df['discharge_year'] = np.where(df.discharge_year.isnull(), df.discharge_day * 365, df.discharge_year)"
   ]
  },
  {
   "cell_type": "markdown",
   "metadata": {},
   "source": [
    "Now, let's drop the daily and weekly counts because we wish to remove them in the final output. "
   ]
  },
  {
   "cell_type": "code",
   "execution_count": 6,
   "metadata": {
    "scrolled": true
   },
   "outputs": [],
   "source": [
    "df = df.drop(columns=['admissions_day', 'admissions_week', 'discharge_week', 'discharge_day'])"
   ]
  },
  {
   "cell_type": "markdown",
   "metadata": {},
   "source": [
    "# 4. Impute confined_men using confined_women"
   ]
  },
  {
   "cell_type": "markdown",
   "metadata": {},
   "source": [
    "Subtract confined_women from total_confined_pop to get confined_men. \n",
    "\n",
    "As you can see, doing this reduced the missingness of confined_men to 0."
   ]
  },
  {
   "cell_type": "code",
   "execution_count": 7,
   "metadata": {},
   "outputs": [
    {
     "data": {
      "text/plain": [
       "0"
      ]
     },
     "execution_count": 7,
     "metadata": {},
     "output_type": "execute_result"
    }
   ],
   "source": [
    "df['confined_men'] = np.where(df.confined_men.isnull(), df.total_confined_pop - df.confined_women, df.confined_men)\n",
    "df.confined_men.isna().sum() # how much is still missing from confined_men?"
   ]
  },
  {
   "cell_type": "markdown",
   "metadata": {},
   "source": [
    "# 5. Detect Anomalous Data"
   ]
  },
  {
   "cell_type": "markdown",
   "metadata": {},
   "source": [
    "Create Percent Change Columns for rated_capacity, total_confined_pop, adp, confined_women, confined_men, admissions_year, discharge_year."
   ]
  },
  {
   "cell_type": "code",
   "execution_count": 8,
   "metadata": {},
   "outputs": [],
   "source": [
    "columns = ['rated_capacity', 'total_confined_pop', 'adp', 'confined_women', 'confined_men', 'admissions_year', 'discharge_year']\n",
    "\n",
    "df = (df.join(df[columns]\n",
    "              .pct_change(fill_method='ffill'), rsuffix='_pctchange'))"
   ]
  },
  {
   "cell_type": "markdown",
   "metadata": {},
   "source": [
    "### Pinpoint anomalies using `anomaly`:\n",
    "`anomaly` is a table that will help pinpoint anomalies (40%+ difference) that we can use to analyze the original dataset. It has the original values for variables like adp, confined_men, etc. but on the right, it also contains a string statement saying whether or not a specific value for the variable is an anomaly (> 40% absolute value difference)"
   ]
  },
  {
   "cell_type": "code",
   "execution_count": 16,
   "metadata": {},
   "outputs": [
    {
     "ename": "KeyError",
     "evalue": "'rated_capacity_pctchange'",
     "output_type": "error",
     "traceback": [
      "\u001b[1;31m---------------------------------------------------------------------------\u001b[0m",
      "\u001b[1;31mKeyError\u001b[0m                                  Traceback (most recent call last)",
      "\u001b[1;32m~\\Anaconda3\\envs\\pytorch_p37\\lib\\site-packages\\pandas\\core\\indexes\\base.py\u001b[0m in \u001b[0;36mget_loc\u001b[1;34m(self, key, method, tolerance)\u001b[0m\n\u001b[0;32m   2894\u001b[0m             \u001b[1;32mtry\u001b[0m\u001b[1;33m:\u001b[0m\u001b[1;33m\u001b[0m\u001b[1;33m\u001b[0m\u001b[0m\n\u001b[1;32m-> 2895\u001b[1;33m                 \u001b[1;32mreturn\u001b[0m \u001b[0mself\u001b[0m\u001b[1;33m.\u001b[0m\u001b[0m_engine\u001b[0m\u001b[1;33m.\u001b[0m\u001b[0mget_loc\u001b[0m\u001b[1;33m(\u001b[0m\u001b[0mcasted_key\u001b[0m\u001b[1;33m)\u001b[0m\u001b[1;33m\u001b[0m\u001b[1;33m\u001b[0m\u001b[0m\n\u001b[0m\u001b[0;32m   2896\u001b[0m             \u001b[1;32mexcept\u001b[0m \u001b[0mKeyError\u001b[0m \u001b[1;32mas\u001b[0m \u001b[0merr\u001b[0m\u001b[1;33m:\u001b[0m\u001b[1;33m\u001b[0m\u001b[1;33m\u001b[0m\u001b[0m\n",
      "\u001b[1;32mpandas\\_libs\\index.pyx\u001b[0m in \u001b[0;36mpandas._libs.index.IndexEngine.get_loc\u001b[1;34m()\u001b[0m\n",
      "\u001b[1;32mpandas\\_libs\\index.pyx\u001b[0m in \u001b[0;36mpandas._libs.index.IndexEngine.get_loc\u001b[1;34m()\u001b[0m\n",
      "\u001b[1;32mpandas\\_libs\\hashtable_class_helper.pxi\u001b[0m in \u001b[0;36mpandas._libs.hashtable.PyObjectHashTable.get_item\u001b[1;34m()\u001b[0m\n",
      "\u001b[1;32mpandas\\_libs\\hashtable_class_helper.pxi\u001b[0m in \u001b[0;36mpandas._libs.hashtable.PyObjectHashTable.get_item\u001b[1;34m()\u001b[0m\n",
      "\u001b[1;31mKeyError\u001b[0m: 'rated_capacity_pctchange'",
      "\nThe above exception was the direct cause of the following exception:\n",
      "\u001b[1;31mKeyError\u001b[0m                                  Traceback (most recent call last)",
      "\u001b[1;32m<ipython-input-16-bc187c1f7000>\u001b[0m in \u001b[0;36m<module>\u001b[1;34m\u001b[0m\n\u001b[0;32m      3\u001b[0m \u001b[1;32mfor\u001b[0m \u001b[0mcolumn\u001b[0m \u001b[1;32min\u001b[0m \u001b[0mcolumns\u001b[0m\u001b[1;33m:\u001b[0m\u001b[1;33m\u001b[0m\u001b[1;33m\u001b[0m\u001b[0m\n\u001b[0;32m      4\u001b[0m     \u001b[0mcolumn_pctchange\u001b[0m \u001b[1;33m=\u001b[0m \u001b[0mcolumn\u001b[0m \u001b[1;33m+\u001b[0m \u001b[1;34m'_pctchange'\u001b[0m\u001b[1;33m\u001b[0m\u001b[1;33m\u001b[0m\u001b[0m\n\u001b[1;32m----> 5\u001b[1;33m     anomaly[column_pctchange] = np.where(abs(anomaly[column_pctchange]) > .40, \n\u001b[0m\u001b[0;32m      6\u001b[0m                           \u001b[1;34m\"Anomaly\"\u001b[0m\u001b[1;33m,\u001b[0m\u001b[1;33m\u001b[0m\u001b[1;33m\u001b[0m\u001b[0m\n\u001b[0;32m      7\u001b[0m                           \"Good\")\n",
      "\u001b[1;32m~\\Anaconda3\\envs\\pytorch_p37\\lib\\site-packages\\pandas\\core\\frame.py\u001b[0m in \u001b[0;36m__getitem__\u001b[1;34m(self, key)\u001b[0m\n\u001b[0;32m   2900\u001b[0m             \u001b[1;32mif\u001b[0m \u001b[0mself\u001b[0m\u001b[1;33m.\u001b[0m\u001b[0mcolumns\u001b[0m\u001b[1;33m.\u001b[0m\u001b[0mnlevels\u001b[0m \u001b[1;33m>\u001b[0m \u001b[1;36m1\u001b[0m\u001b[1;33m:\u001b[0m\u001b[1;33m\u001b[0m\u001b[1;33m\u001b[0m\u001b[0m\n\u001b[0;32m   2901\u001b[0m                 \u001b[1;32mreturn\u001b[0m \u001b[0mself\u001b[0m\u001b[1;33m.\u001b[0m\u001b[0m_getitem_multilevel\u001b[0m\u001b[1;33m(\u001b[0m\u001b[0mkey\u001b[0m\u001b[1;33m)\u001b[0m\u001b[1;33m\u001b[0m\u001b[1;33m\u001b[0m\u001b[0m\n\u001b[1;32m-> 2902\u001b[1;33m             \u001b[0mindexer\u001b[0m \u001b[1;33m=\u001b[0m \u001b[0mself\u001b[0m\u001b[1;33m.\u001b[0m\u001b[0mcolumns\u001b[0m\u001b[1;33m.\u001b[0m\u001b[0mget_loc\u001b[0m\u001b[1;33m(\u001b[0m\u001b[0mkey\u001b[0m\u001b[1;33m)\u001b[0m\u001b[1;33m\u001b[0m\u001b[1;33m\u001b[0m\u001b[0m\n\u001b[0m\u001b[0;32m   2903\u001b[0m             \u001b[1;32mif\u001b[0m \u001b[0mis_integer\u001b[0m\u001b[1;33m(\u001b[0m\u001b[0mindexer\u001b[0m\u001b[1;33m)\u001b[0m\u001b[1;33m:\u001b[0m\u001b[1;33m\u001b[0m\u001b[1;33m\u001b[0m\u001b[0m\n\u001b[0;32m   2904\u001b[0m                 \u001b[0mindexer\u001b[0m \u001b[1;33m=\u001b[0m \u001b[1;33m[\u001b[0m\u001b[0mindexer\u001b[0m\u001b[1;33m]\u001b[0m\u001b[1;33m\u001b[0m\u001b[1;33m\u001b[0m\u001b[0m\n",
      "\u001b[1;32m~\\Anaconda3\\envs\\pytorch_p37\\lib\\site-packages\\pandas\\core\\indexes\\base.py\u001b[0m in \u001b[0;36mget_loc\u001b[1;34m(self, key, method, tolerance)\u001b[0m\n\u001b[0;32m   2895\u001b[0m                 \u001b[1;32mreturn\u001b[0m \u001b[0mself\u001b[0m\u001b[1;33m.\u001b[0m\u001b[0m_engine\u001b[0m\u001b[1;33m.\u001b[0m\u001b[0mget_loc\u001b[0m\u001b[1;33m(\u001b[0m\u001b[0mcasted_key\u001b[0m\u001b[1;33m)\u001b[0m\u001b[1;33m\u001b[0m\u001b[1;33m\u001b[0m\u001b[0m\n\u001b[0;32m   2896\u001b[0m             \u001b[1;32mexcept\u001b[0m \u001b[0mKeyError\u001b[0m \u001b[1;32mas\u001b[0m \u001b[0merr\u001b[0m\u001b[1;33m:\u001b[0m\u001b[1;33m\u001b[0m\u001b[1;33m\u001b[0m\u001b[0m\n\u001b[1;32m-> 2897\u001b[1;33m                 \u001b[1;32mraise\u001b[0m \u001b[0mKeyError\u001b[0m\u001b[1;33m(\u001b[0m\u001b[0mkey\u001b[0m\u001b[1;33m)\u001b[0m \u001b[1;32mfrom\u001b[0m \u001b[0merr\u001b[0m\u001b[1;33m\u001b[0m\u001b[1;33m\u001b[0m\u001b[0m\n\u001b[0m\u001b[0;32m   2898\u001b[0m \u001b[1;33m\u001b[0m\u001b[0m\n\u001b[0;32m   2899\u001b[0m         \u001b[1;32mif\u001b[0m \u001b[0mtolerance\u001b[0m \u001b[1;32mis\u001b[0m \u001b[1;32mnot\u001b[0m \u001b[1;32mNone\u001b[0m\u001b[1;33m:\u001b[0m\u001b[1;33m\u001b[0m\u001b[1;33m\u001b[0m\u001b[0m\n",
      "\u001b[1;31mKeyError\u001b[0m: 'rated_capacity_pctchange'"
     ]
    }
   ],
   "source": [
    "anomaly = df.copy()\n",
    "\n",
    "for column in columns:\n",
    "    column_pctchange = column + '_pctchange'\n",
    "    anomaly[column_pctchange] = np.where(abs(anomaly[column_pctchange]) > .40, \n",
    "                          \"Anomaly\", \n",
    "                          \"Good\")\n",
    "anomaly"
   ]
  },
  {
   "cell_type": "markdown",
   "metadata": {},
   "source": [
    "### Do research on a county using `show_anomaly_table()`\n",
    "If you want to do specific research on a particular county, `show_anomaly_table` is a function shows anomalies for a specific county and a county's selected statistic."
   ]
  },
  {
   "cell_type": "code",
   "execution_count": 10,
   "metadata": {},
   "outputs": [
    {
     "data": {
      "text/html": [
       "<div>\n",
       "<style scoped>\n",
       "    .dataframe tbody tr th:only-of-type {\n",
       "        vertical-align: middle;\n",
       "    }\n",
       "\n",
       "    .dataframe tbody tr th {\n",
       "        vertical-align: top;\n",
       "    }\n",
       "\n",
       "    .dataframe thead th {\n",
       "        text-align: right;\n",
       "    }\n",
       "</style>\n",
       "<table border=\"1\" class=\"dataframe\">\n",
       "  <thead>\n",
       "    <tr style=\"text-align: right;\">\n",
       "      <th></th>\n",
       "      <th>facility_name</th>\n",
       "      <th>year</th>\n",
       "      <th>admissions_year</th>\n",
       "      <th>admissions_year_pctchange</th>\n",
       "    </tr>\n",
       "  </thead>\n",
       "  <tbody>\n",
       "    <tr>\n",
       "      <th>105</th>\n",
       "      <td>BRISTOL COUNTY SHERIFFS OFFICE</td>\n",
       "      <td>1985</td>\n",
       "      <td>1605.0</td>\n",
       "      <td>Anomaly</td>\n",
       "    </tr>\n",
       "    <tr>\n",
       "      <th>106</th>\n",
       "      <td>BRISTOL COUNTY SHERIFFS OFFICE</td>\n",
       "      <td>1986</td>\n",
       "      <td>1804.0</td>\n",
       "      <td>Good</td>\n",
       "    </tr>\n",
       "    <tr>\n",
       "      <th>107</th>\n",
       "      <td>BRISTOL COUNTY SHERIFFS OFFICE</td>\n",
       "      <td>1987</td>\n",
       "      <td>1975.0</td>\n",
       "      <td>Good</td>\n",
       "    </tr>\n",
       "    <tr>\n",
       "      <th>108</th>\n",
       "      <td>BRISTOL COUNTY SHERIFFS OFFICE</td>\n",
       "      <td>1989</td>\n",
       "      <td>2085.0</td>\n",
       "      <td>Good</td>\n",
       "    </tr>\n",
       "    <tr>\n",
       "      <th>109</th>\n",
       "      <td>BRISTOL COUNTY SHERIFFS OFFICE</td>\n",
       "      <td>1990</td>\n",
       "      <td>2439.0</td>\n",
       "      <td>Good</td>\n",
       "    </tr>\n",
       "    <tr>\n",
       "      <th>110</th>\n",
       "      <td>BRISTOL COUNTY SHERIFFS OFFICE</td>\n",
       "      <td>1992</td>\n",
       "      <td>1825.0</td>\n",
       "      <td>Good</td>\n",
       "    </tr>\n",
       "    <tr>\n",
       "      <th>111</th>\n",
       "      <td>BRISTOL COUNTY SHERIFFS OFFICE</td>\n",
       "      <td>1994</td>\n",
       "      <td>NaN</td>\n",
       "      <td>Good</td>\n",
       "    </tr>\n",
       "    <tr>\n",
       "      <th>112</th>\n",
       "      <td>BRISTOL COUNTY SHERIFFS OFFICE</td>\n",
       "      <td>1995</td>\n",
       "      <td>NaN</td>\n",
       "      <td>Good</td>\n",
       "    </tr>\n",
       "    <tr>\n",
       "      <th>113</th>\n",
       "      <td>BRISTOL COUNTY SHERIFFS OFFICE</td>\n",
       "      <td>1996</td>\n",
       "      <td>NaN</td>\n",
       "      <td>Good</td>\n",
       "    </tr>\n",
       "    <tr>\n",
       "      <th>114</th>\n",
       "      <td>BRISTOL COUNTY SHERIFFS OFFICE</td>\n",
       "      <td>1997</td>\n",
       "      <td>NaN</td>\n",
       "      <td>Good</td>\n",
       "    </tr>\n",
       "    <tr>\n",
       "      <th>115</th>\n",
       "      <td>BRISTOL COUNTY SHERIFFS OFFICE</td>\n",
       "      <td>1998</td>\n",
       "      <td>5304.0</td>\n",
       "      <td>Anomaly</td>\n",
       "    </tr>\n",
       "    <tr>\n",
       "      <th>116</th>\n",
       "      <td>BRISTOL COUNTY SHERIFFS OFFICE</td>\n",
       "      <td>1999</td>\n",
       "      <td>1872.0</td>\n",
       "      <td>Anomaly</td>\n",
       "    </tr>\n",
       "    <tr>\n",
       "      <th>117</th>\n",
       "      <td>BRISTOL COUNTY SHERIFFS OFFICE</td>\n",
       "      <td>2000</td>\n",
       "      <td>7592.0</td>\n",
       "      <td>Anomaly</td>\n",
       "    </tr>\n",
       "    <tr>\n",
       "      <th>118</th>\n",
       "      <td>BRISTOL COUNTY SHERIFFS OFFICE</td>\n",
       "      <td>2001</td>\n",
       "      <td>6240.0</td>\n",
       "      <td>Good</td>\n",
       "    </tr>\n",
       "    <tr>\n",
       "      <th>119</th>\n",
       "      <td>BRISTOL COUNTY SHERIFFS OFFICE</td>\n",
       "      <td>2002</td>\n",
       "      <td>7280.0</td>\n",
       "      <td>Good</td>\n",
       "    </tr>\n",
       "    <tr>\n",
       "      <th>120</th>\n",
       "      <td>BRISTOL COUNTY SHERIFFS OFFICE</td>\n",
       "      <td>2003</td>\n",
       "      <td>8320.0</td>\n",
       "      <td>Good</td>\n",
       "    </tr>\n",
       "    <tr>\n",
       "      <th>121</th>\n",
       "      <td>BRISTOL COUNTY SHERIFFS OFFICE</td>\n",
       "      <td>2004</td>\n",
       "      <td>29900.0</td>\n",
       "      <td>Anomaly</td>\n",
       "    </tr>\n",
       "    <tr>\n",
       "      <th>122</th>\n",
       "      <td>BRISTOL COUNTY SHERIFFS OFFICE</td>\n",
       "      <td>2005</td>\n",
       "      <td>9308.0</td>\n",
       "      <td>Anomaly</td>\n",
       "    </tr>\n",
       "    <tr>\n",
       "      <th>123</th>\n",
       "      <td>BRISTOL COUNTY SHERIFFS OFFICE</td>\n",
       "      <td>2006</td>\n",
       "      <td>NaN</td>\n",
       "      <td>Good</td>\n",
       "    </tr>\n",
       "    <tr>\n",
       "      <th>124</th>\n",
       "      <td>BRISTOL COUNTY SHERIFFS OFFICE</td>\n",
       "      <td>2007</td>\n",
       "      <td>18304.0</td>\n",
       "      <td>Anomaly</td>\n",
       "    </tr>\n",
       "    <tr>\n",
       "      <th>125</th>\n",
       "      <td>BRISTOL COUNTY SHERIFFS OFFICE</td>\n",
       "      <td>2008</td>\n",
       "      <td>9984.0</td>\n",
       "      <td>Anomaly</td>\n",
       "    </tr>\n",
       "    <tr>\n",
       "      <th>126</th>\n",
       "      <td>BRISTOL COUNTY SHERIFFS OFFICE</td>\n",
       "      <td>2009</td>\n",
       "      <td>NaN</td>\n",
       "      <td>Good</td>\n",
       "    </tr>\n",
       "    <tr>\n",
       "      <th>127</th>\n",
       "      <td>BRISTOL COUNTY SHERIFFS OFFICE</td>\n",
       "      <td>2010</td>\n",
       "      <td>13676.0</td>\n",
       "      <td>Good</td>\n",
       "    </tr>\n",
       "    <tr>\n",
       "      <th>128</th>\n",
       "      <td>BRISTOL COUNTY SHERIFFS OFFICE</td>\n",
       "      <td>2011</td>\n",
       "      <td>12792.0</td>\n",
       "      <td>Good</td>\n",
       "    </tr>\n",
       "    <tr>\n",
       "      <th>129</th>\n",
       "      <td>BRISTOL COUNTY SHERIFFS OFFICE</td>\n",
       "      <td>2012</td>\n",
       "      <td>7592.0</td>\n",
       "      <td>Anomaly</td>\n",
       "    </tr>\n",
       "    <tr>\n",
       "      <th>130</th>\n",
       "      <td>BRISTOL COUNTY SHERIFFS OFFICE</td>\n",
       "      <td>2013</td>\n",
       "      <td>12948.0</td>\n",
       "      <td>Anomaly</td>\n",
       "    </tr>\n",
       "    <tr>\n",
       "      <th>131</th>\n",
       "      <td>BRISTOL COUNTY SHERIFFS OFFICE</td>\n",
       "      <td>2014</td>\n",
       "      <td>4576.0</td>\n",
       "      <td>Anomaly</td>\n",
       "    </tr>\n",
       "    <tr>\n",
       "      <th>132</th>\n",
       "      <td>BRISTOL COUNTY SHERIFFS OFFICE</td>\n",
       "      <td>2015</td>\n",
       "      <td>6368.0</td>\n",
       "      <td>Good</td>\n",
       "    </tr>\n",
       "  </tbody>\n",
       "</table>\n",
       "</div>"
      ],
      "text/plain": [
       "                      facility_name  year  admissions_year  \\\n",
       "105  BRISTOL COUNTY SHERIFFS OFFICE  1985           1605.0   \n",
       "106  BRISTOL COUNTY SHERIFFS OFFICE  1986           1804.0   \n",
       "107  BRISTOL COUNTY SHERIFFS OFFICE  1987           1975.0   \n",
       "108  BRISTOL COUNTY SHERIFFS OFFICE  1989           2085.0   \n",
       "109  BRISTOL COUNTY SHERIFFS OFFICE  1990           2439.0   \n",
       "110  BRISTOL COUNTY SHERIFFS OFFICE  1992           1825.0   \n",
       "111  BRISTOL COUNTY SHERIFFS OFFICE  1994              NaN   \n",
       "112  BRISTOL COUNTY SHERIFFS OFFICE  1995              NaN   \n",
       "113  BRISTOL COUNTY SHERIFFS OFFICE  1996              NaN   \n",
       "114  BRISTOL COUNTY SHERIFFS OFFICE  1997              NaN   \n",
       "115  BRISTOL COUNTY SHERIFFS OFFICE  1998           5304.0   \n",
       "116  BRISTOL COUNTY SHERIFFS OFFICE  1999           1872.0   \n",
       "117  BRISTOL COUNTY SHERIFFS OFFICE  2000           7592.0   \n",
       "118  BRISTOL COUNTY SHERIFFS OFFICE  2001           6240.0   \n",
       "119  BRISTOL COUNTY SHERIFFS OFFICE  2002           7280.0   \n",
       "120  BRISTOL COUNTY SHERIFFS OFFICE  2003           8320.0   \n",
       "121  BRISTOL COUNTY SHERIFFS OFFICE  2004          29900.0   \n",
       "122  BRISTOL COUNTY SHERIFFS OFFICE  2005           9308.0   \n",
       "123  BRISTOL COUNTY SHERIFFS OFFICE  2006              NaN   \n",
       "124  BRISTOL COUNTY SHERIFFS OFFICE  2007          18304.0   \n",
       "125  BRISTOL COUNTY SHERIFFS OFFICE  2008           9984.0   \n",
       "126  BRISTOL COUNTY SHERIFFS OFFICE  2009              NaN   \n",
       "127  BRISTOL COUNTY SHERIFFS OFFICE  2010          13676.0   \n",
       "128  BRISTOL COUNTY SHERIFFS OFFICE  2011          12792.0   \n",
       "129  BRISTOL COUNTY SHERIFFS OFFICE  2012           7592.0   \n",
       "130  BRISTOL COUNTY SHERIFFS OFFICE  2013          12948.0   \n",
       "131  BRISTOL COUNTY SHERIFFS OFFICE  2014           4576.0   \n",
       "132  BRISTOL COUNTY SHERIFFS OFFICE  2015           6368.0   \n",
       "\n",
       "    admissions_year_pctchange  \n",
       "105                   Anomaly  \n",
       "106                      Good  \n",
       "107                      Good  \n",
       "108                      Good  \n",
       "109                      Good  \n",
       "110                      Good  \n",
       "111                      Good  \n",
       "112                      Good  \n",
       "113                      Good  \n",
       "114                      Good  \n",
       "115                   Anomaly  \n",
       "116                   Anomaly  \n",
       "117                   Anomaly  \n",
       "118                      Good  \n",
       "119                      Good  \n",
       "120                      Good  \n",
       "121                   Anomaly  \n",
       "122                   Anomaly  \n",
       "123                      Good  \n",
       "124                   Anomaly  \n",
       "125                   Anomaly  \n",
       "126                      Good  \n",
       "127                      Good  \n",
       "128                      Good  \n",
       "129                   Anomaly  \n",
       "130                   Anomaly  \n",
       "131                   Anomaly  \n",
       "132                      Good  "
      ]
     },
     "execution_count": 10,
     "metadata": {},
     "output_type": "execute_result"
    }
   ],
   "source": [
    "def show_anomaly_table(county, statistic):\n",
    "    '''\n",
    "    code to index and show anomalies for a specific county and the county's [insert statistic here]\n",
    "    \n",
    "    county - county name (all caps)\n",
    "    statistic - statistic (i.e. admissions_year, etc.)\n",
    "    '''\n",
    "    statistic_pct_change = statistic + '_pctchange'\n",
    "    return anomaly[anomaly['facility_name'].str.contains(county)][['facility_name',\n",
    "                                                           'year',\n",
    "                                                           statistic,\n",
    "                                                           statistic_pct_change]]\n",
    "\n",
    "show_anomaly_table('BRISTOL', 'admissions_year')"
   ]
  },
  {
   "cell_type": "markdown",
   "metadata": {},
   "source": [
    "#### Research Bristol County House of Correction and Jail:\n",
    "\n",
    "Here's an example of the type of anomaly research that can be aided by the dataset I've created:\n",
    "\n",
    "Using the output from `show_anomaly_table('BRISTOL', 'admissions_year')`, we can see that Bristol has many anomalous years for its admissions per year variable. \n",
    "\n",
    "For instance, Bristol's admissions per year ranges from 1605.0 people/year in 1985 to 29900.0 people/year in 2004. \n",
    "\n",
    "Doing some online research, Bristol County House of Correction and Jail has a capacity of 1100 bed facility houses. [<sup>1</sup>](#fn1) Thus, it seems improbable that Bristol County would have a yearly entry of 29900.0 people/year, because each bed would hold 27 people per year if true. Thus, when cleaning the data later using the function, I will pay close attention to making sure that the data that is removed are the numbers closer to 29900.0. \n",
    "\n",
    "<span id=\"fn1\"><sup>1</sup>Bristol County Facilities: https://www.bcso-ma.us/facilities.htm</span>"
   ]
  },
  {
   "cell_type": "markdown",
   "metadata": {},
   "source": [
    "# 6. Remove Anomalous Data:"
   ]
  },
  {
   "cell_type": "markdown",
   "metadata": {},
   "source": [
    "This code traverses through the columns/variables that we are returning and removes any anomalies."
   ]
  },
  {
   "cell_type": "code",
   "execution_count": 11,
   "metadata": {},
   "outputs": [],
   "source": [
    "for column in columns:\n",
    "    column_pctchange = column + '_pctchange'\n",
    "    df[column] = np.where(abs(df[column_pctchange]) > .40, \n",
    "                          np.nan, \n",
    "                          df[column])\n",
    "df = df.iloc[:, 0:10]\n",
    "df"
   ]
  },
  {
   "cell_type": "markdown",
   "metadata": {},
   "source": [
    "# 7. Linear interpolation"
   ]
  },
  {
   "cell_type": "markdown",
   "metadata": {},
   "source": [
    "Apply linear interpolation to each counties. "
   ]
  },
  {
   "cell_type": "code",
   "execution_count": 13,
   "metadata": {
    "scrolled": true
   },
   "outputs": [],
   "source": [
    "df = df.groupby('fips').apply(lambda group: group.interpolate(method='index'))"
   ]
  },
  {
   "cell_type": "markdown",
   "metadata": {},
   "source": [
    "Linear Interpolation (after removing anomalies) has reduced missingness to:"
   ]
  },
  {
   "cell_type": "code",
   "execution_count": 14,
   "metadata": {},
   "outputs": [
    {
     "data": {
      "text/plain": [
       "fips                   0\n",
       "facility_name          0\n",
       "year                   0\n",
       "rated_capacity         8\n",
       "total_confined_pop    11\n",
       "adp                   21\n",
       "confined_women        10\n",
       "confined_men          12\n",
       "admissions_year       18\n",
       "discharge_year        27\n",
       "dtype: int64"
      ]
     },
     "execution_count": 14,
     "metadata": {},
     "output_type": "execute_result"
    }
   ],
   "source": [
    "df.isna().sum()"
   ]
  },
  {
   "cell_type": "markdown",
   "metadata": {},
   "source": [
    "# 8. Write data to new file "
   ]
  },
  {
   "cell_type": "code",
   "execution_count": 15,
   "metadata": {},
   "outputs": [],
   "source": [
    "df.to_csv('cleaned.csv')"
   ]
  }
 ],
 "metadata": {
  "kernelspec": {
   "display_name": "Python 3",
   "language": "python",
   "name": "python3"
  },
  "language_info": {
   "codemirror_mode": {
    "name": "ipython",
    "version": 3
   },
   "file_extension": ".py",
   "mimetype": "text/x-python",
   "name": "python",
   "nbconvert_exporter": "python",
   "pygments_lexer": "ipython3",
   "version": "3.7.9"
  }
 },
 "nbformat": 4,
 "nbformat_minor": 4
}
